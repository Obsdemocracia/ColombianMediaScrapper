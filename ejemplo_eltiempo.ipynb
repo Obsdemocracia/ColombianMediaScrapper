{
 "cells": [
  {
   "cell_type": "code",
   "execution_count": 23,
   "id": "2d6211db",
   "metadata": {},
   "outputs": [],
   "source": [
    "import ipynb.fs.full.functions_media as functions_media\n",
    "import pandas as pd"
   ]
  },
  {
   "cell_type": "code",
   "execution_count": 12,
   "id": "a0c9bc82",
   "metadata": {},
   "outputs": [],
   "source": [
    "df= pd.read_csv(\"./datos/input_prueba.csv\")"
   ]
  },
  {
   "cell_type": "code",
   "execution_count": 21,
   "id": "a6fee5cf",
   "metadata": {},
   "outputs": [
    {
     "data": {
      "text/plain": [
       "['http://www.eltiempo.com/bogota/toque-de-queda-en-cundinamarca-ira-hasta-el-2-de-mayo-583828',\n",
       " 'https://www.eltiempo.com/politica/gobierno/presidente-duque-necesitamos-vacunas-no-iva-responden-al-gobierno-583918',\n",
       " 'https://www.eltiempo.com/bogota/bogota-alcaldesa-claudia-lopez-habla-de-la-situacion-critica-de-la-ciudad-584027',\n",
       " 'https://www.eltiempo.com/politica/partidos-politicos/carrasquilla-resulto-mas-peligroso-que-la-pandemia-gaviria-584172',\n",
       " 'https://www.eltiempo.com/colombia/otras-ciudades/plazas-de-mercado-de-bucaramanga-se-uniran-al-paro-nacional-584176']"
      ]
     },
     "execution_count": 21,
     "metadata": {},
     "output_type": "execute_result"
    }
   ],
   "source": [
    "urls_et=list(df[df[\"media_url\"]==\"http://www.eltiempo.com\"][\"url\"])[:5]\n",
    "urls_et"
   ]
  },
  {
   "cell_type": "code",
   "execution_count": 26,
   "id": "dbcc2c9e",
   "metadata": {},
   "outputs": [],
   "source": [
    "noticias_eltiempo=[]\n",
    "for url in urls_et:\n",
    "    noticia=functions_media.eltiempo(url)\n",
    "    noticias_eltiempo.append(noticia)"
   ]
  },
  {
   "cell_type": "code",
   "execution_count": 29,
   "id": "9d21d3e5",
   "metadata": {},
   "outputs": [
    {
     "data": {
      "text/html": [
       "<div>\n",
       "<style scoped>\n",
       "    .dataframe tbody tr th:only-of-type {\n",
       "        vertical-align: middle;\n",
       "    }\n",
       "\n",
       "    .dataframe tbody tr th {\n",
       "        vertical-align: top;\n",
       "    }\n",
       "\n",
       "    .dataframe thead th {\n",
       "        text-align: right;\n",
       "    }\n",
       "</style>\n",
       "<table border=\"1\" class=\"dataframe\">\n",
       "  <thead>\n",
       "    <tr style=\"text-align: right;\">\n",
       "      <th></th>\n",
       "      <th>titulo</th>\n",
       "      <th>autor</th>\n",
       "      <th>fecha</th>\n",
       "      <th>categorÃ­a</th>\n",
       "      <th>contenido</th>\n",
       "      <th>url</th>\n",
       "    </tr>\n",
       "  </thead>\n",
       "  <tbody>\n",
       "    <tr>\n",
       "      <th>0</th>\n",
       "      <td>Los municipios de Cundinamarca han adoptado me...</td>\n",
       "      <td>Óscar Murillo</td>\n",
       "      <td>26 de abril 2021, 11:05 A. M.</td>\n",
       "      <td>REDACCIÓN EL TIEMPO</td>\n",
       "      <td>Con una ocupación de UCI en el 75 por ciento,...</td>\n",
       "      <td>http://www.eltiempo.com/bogota/toque-de-queda-...</td>\n",
       "    </tr>\n",
       "    <tr>\n",
       "      <th>1</th>\n",
       "      <td>Gerente General de Funeraria San Vicente De Me...</td>\n",
       "      <td>Armando Neira Goyeneche</td>\n",
       "      <td>27 de abril 2021, 10:20 A. M.</td>\n",
       "      <td>POLÍTICA</td>\n",
       "      <td>La controversia por la posibilidad de que los...</td>\n",
       "      <td>https://www.eltiempo.com/politica/gobierno/pre...</td>\n",
       "    </tr>\n",
       "    <tr>\n",
       "      <th>2</th>\n",
       "      <td>Archivo particular</td>\n",
       "      <td>Ernesto Cortes</td>\n",
       "      <td>27 de abril 2021, 07:38 A. M.</td>\n",
       "      <td>Nombre del autor</td>\n",
       "      <td>En entrevista con EL TIEMPO, la alcaldesa de ...</td>\n",
       "      <td>https://www.eltiempo.com/bogota/bogota-alcalde...</td>\n",
       "    </tr>\n",
       "    <tr>\n",
       "      <th>3</th>\n",
       "      <td>Expresidente y director del Partido Liberal, C...</td>\n",
       "      <td>Angy Viviana Alvarado</td>\n",
       "      <td>27 de abril 2021, 02:21 P. M.</td>\n",
       "      <td>ELTIEMPO.COM</td>\n",
       "      <td>El expresidente y director del Partido Libera...</td>\n",
       "      <td>https://www.eltiempo.com/politica/partidos-pol...</td>\n",
       "    </tr>\n",
       "    <tr>\n",
       "      <th>4</th>\n",
       "      <td>Paro de transportadores Bucaramanga.</td>\n",
       "      <td>Lisandro Abel Rengifo</td>\n",
       "      <td>27 de abril 2021, 02:23 P. M.</td>\n",
       "      <td>REDACCIÓN EL TIEMPO</td>\n",
       "      <td>Las personas que trabaja en las plazas de mer...</td>\n",
       "      <td>https://www.eltiempo.com/colombia/otras-ciudad...</td>\n",
       "    </tr>\n",
       "  </tbody>\n",
       "</table>\n",
       "</div>"
      ],
      "text/plain": [
       "                                              titulo                    autor  \\\n",
       "0  Los municipios de Cundinamarca han adoptado me...            Óscar Murillo   \n",
       "1  Gerente General de Funeraria San Vicente De Me...  Armando Neira Goyeneche   \n",
       "2                                 Archivo particular           Ernesto Cortes   \n",
       "3  Expresidente y director del Partido Liberal, C...    Angy Viviana Alvarado   \n",
       "4               Paro de transportadores Bucaramanga.    Lisandro Abel Rengifo   \n",
       "\n",
       "                           fecha           categorÃ­a  \\\n",
       "0  26 de abril 2021, 11:05 A. M.  REDACCIÓN EL TIEMPO   \n",
       "1  27 de abril 2021, 10:20 A. M.             POLÍTICA   \n",
       "2  27 de abril 2021, 07:38 A. M.     Nombre del autor   \n",
       "3  27 de abril 2021, 02:21 P. M.         ELTIEMPO.COM   \n",
       "4  27 de abril 2021, 02:23 P. M.  REDACCIÓN EL TIEMPO   \n",
       "\n",
       "                                           contenido  \\\n",
       "0   Con una ocupación de UCI en el 75 por ciento,...   \n",
       "1   La controversia por la posibilidad de que los...   \n",
       "2   En entrevista con EL TIEMPO, la alcaldesa de ...   \n",
       "3   El expresidente y director del Partido Libera...   \n",
       "4   Las personas que trabaja en las plazas de mer...   \n",
       "\n",
       "                                                 url  \n",
       "0  http://www.eltiempo.com/bogota/toque-de-queda-...  \n",
       "1  https://www.eltiempo.com/politica/gobierno/pre...  \n",
       "2  https://www.eltiempo.com/bogota/bogota-alcalde...  \n",
       "3  https://www.eltiempo.com/politica/partidos-pol...  \n",
       "4  https://www.eltiempo.com/colombia/otras-ciudad...  "
      ]
     },
     "execution_count": 29,
     "metadata": {},
     "output_type": "execute_result"
    }
   ],
   "source": [
    "eltiempo_noticias=pd.DataFrame(noticias_eltiempo)\n",
    "eltiempo_noticias"
   ]
  }
 ],
 "metadata": {
  "kernelspec": {
   "display_name": "Python 3",
   "language": "python",
   "name": "python3"
  },
  "language_info": {
   "codemirror_mode": {
    "name": "ipython",
    "version": 3
   },
   "file_extension": ".py",
   "mimetype": "text/x-python",
   "name": "python",
   "nbconvert_exporter": "python",
   "pygments_lexer": "ipython3",
   "version": "3.8.8"
  }
 },
 "nbformat": 4,
 "nbformat_minor": 5
}
